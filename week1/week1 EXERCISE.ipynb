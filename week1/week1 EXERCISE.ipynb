{
 "cells": [
  {
   "cell_type": "markdown",
   "id": "fe12c203-e6a6-452c-a655-afb8a03a4ff5",
   "metadata": {},
   "source": [
    "# End of week 1 exercise\n",
    "\n",
    "To demonstrate your familiarity with OpenAI API, and also Ollama, build a tool that takes a technical question,  \n",
    "and responds with an explanation. This is a tool that you will be able to use yourself during the course!"
   ]
  },
  {
   "cell_type": "code",
   "execution_count": 35,
   "id": "c1070317-3ed9-4659-abe3-828943230e03",
   "metadata": {},
   "outputs": [],
   "source": [
    "# imports\n",
    "import os\n",
    "from openai import OpenAI\n",
    "from dotenv import load_dotenv\n",
    "from IPython.display import Markdown, display, update_display"
   ]
  },
  {
   "cell_type": "code",
   "execution_count": 36,
   "id": "4a456906-915a-4bfd-bb9d-57e505c5093f",
   "metadata": {},
   "outputs": [],
   "source": [
    "# constants\n",
    "\n",
    "MODEL_GPT = 'gpt-4o-mini'\n",
    "MODEL_LLAMA = 'llama3.2'"
   ]
  },
  {
   "cell_type": "code",
   "execution_count": 37,
   "id": "a8d7923c-5f28-4c30-8556-342d7c8497c1",
   "metadata": {},
   "outputs": [],
   "source": [
    "# set up environment\n",
    "load_dotenv(override=True)\n",
    "api_key = os.getenv('OPENAI_API_KEY')\n",
    "system_prompt = \"You are a technical code assistant capable of breaking down code and explaining what it means and what it will execute\""
   ]
  },
  {
   "cell_type": "code",
   "execution_count": 38,
   "id": "3f0d0137-52b0-47a8-81a8-11a90a010798",
   "metadata": {},
   "outputs": [],
   "source": [
    "# here is the question; type over this to ask something new\n",
    "\n",
    "question = \"\"\"\n",
    "Please explain what this code does and why:\n",
    "yield from {book.get(\"author\") for book in books if book.get(\"author\")}\n",
    "\"\"\""
   ]
  },
  {
   "cell_type": "code",
   "execution_count": 39,
   "id": "60ce7000-a4a5-4cce-a261-e75ef45063b4",
   "metadata": {},
   "outputs": [
    {
     "data": {
      "text/markdown": [
       "This line of code is using a combination of a generator expression and a set comprehension in Python. Let's break it down step by step to understand what it does:\n",
       "\n",
       "1. **`books`**: This variable presumably represents a collection (like a list) of dictionary objects, where each dictionary represents a book. Each dictionary likely has various attributes about the book, including an \"author\" key.\n",
       "\n",
       "2. **`book.get(\"author\")`**: This part accesses the value associated with the key \"author\" in each `book` dictionary. The `get` method is used here, which returns the value if the key exists, or `None` if the key does not exist. This is a safe way to access dictionary values since it won't raise a KeyError.\n",
       "\n",
       "3. **`for book in books`**: This is a loop that iterates over each `book` in the `books` collection.\n",
       "\n",
       "4. **`if book.get(\"author\")`**: This condition filters the books to only those that have a truthy \"author\" value. If the \"author\" key does not exist or its value is `None`, the book will be excluded from the resulting set.\n",
       "\n",
       "5. **`{... for book in books if book.get(\"author\")}`**: This entire expression creates a set comprehension. It collects all the authors from the `books` collection into a set, effectively discarding duplicates since sets cannot have duplicate values.\n",
       "\n",
       "6. **`yield from`**: This is a special statement in Python that is used in generators. It delegates yielding to another generator or iterable. In this case, it yields each element produced by the set comprehension one at a time.\n",
       "\n",
       "### Summary:\n",
       "Overall, this line creates a set of authors from the given `books` collection (omitting duplicates and books without authors), and then it yields each of those authors one by one. \n",
       "\n",
       "### Why This Might Be Useful:\n",
       "This kind of operation is useful if you want to process a stream of authors without needing to first create a complete list of them in memory, which can be efficient and beneficial for handling potentially large datasets. The use of a set also helps ensure that each author is unique in the output."
      ],
      "text/plain": [
       "<IPython.core.display.Markdown object>"
      ]
     },
     "metadata": {},
     "output_type": "display_data"
    }
   ],
   "source": [
    "# Get gpt-4o-mini to answer, with streaming\n",
    "openai = OpenAI()\n",
    "\n",
    "stream = openai.chat.completions.create(model = MODEL_GPT,\n",
    "    messages = [\n",
    "        {\"role\": \"system\", \"content\": system_prompt},\n",
    "        {\"role\": \"user\", \"content\": question}\n",
    "    ],\n",
    "    stream = True\n",
    "    )\n",
    "\n",
    "response = \"\"\n",
    "display_handle = display(Markdown(\"\"), display_id=True)\n",
    "for chunk in stream:\n",
    "    response += chunk.choices[0].delta.content or ''\n",
    "    response = response.replace(\"```\",\"\").replace(\"markdown\", \"\")\n",
    "    update_display(Markdown(response), display_id=display_handle.display_id)\n"
   ]
  },
  {
   "cell_type": "code",
   "execution_count": 49,
   "id": "d1e91480-3f6f-4558-a7b4-63c27f71b409",
   "metadata": {},
   "outputs": [
    {
     "name": "stdout",
     "output_type": "stream",
     "text": [
      "This code snippet is a Python expression that uses a combination of a set comprehension and the `yield from` statement in a generator function. Let's break it down step by step:\n",
      "\n",
      "### Components Explained:\n",
      "\n",
      "1. **Set Comprehension**: \n",
      "   - `{book.get(\"author\") for book in books if book.get(\"author\")}` is a set comprehension.\n",
      "   - This creates a set of unique values extracted from the `books` iterable.\n",
      "   - `book.get(\"author\")` accesses the \"author\" key from each `book` dictionary (assuming each `book` is a dictionary).\n",
      "   - The condition `if book.get(\"author\")` ensures that only `book` entries with a non-null \"author\" are included in the set. This means if an author is not specified (`None`), that entry will be omitted.\n",
      "\n",
      "2. **`yield from`**:\n",
      "   - The `yield from` statement is used within a generator function to yield all values from an iterable. \n",
      "   - In this case, it yields each unique author retrieved from the set comprehension. \n",
      "   - This allows the generator to generate each author one at a time, without the need for a separate loop.\n",
      "\n",
      "### Code Purpose:\n",
      "- The overall purpose of this code is to create a generator that provides each unique author from a list of books, as long as they have an author specified. It essentially filters out books without authors and prevents duplicates by using a set.\n",
      "\n",
      "### Example:\n",
      "Suppose you have a list of books structured as follows:\n",
      "```python\n",
      "books = [\n",
      "    {\"title\": \"Book One\", \"author\": \"Alice\"},\n",
      "    {\"title\": \"Book Two\", \"author\": \"Bob\"},\n",
      "    {\"title\": \"Book Three\", \"author\": None},\n",
      "    {\"title\": \"Book Four\", \"author\": \"Alice\"},\n",
      "]\n",
      "```\n",
      "\n",
      "When the code is executed in a generator, the resulting output will yield:\n",
      "- \"Alice\"\n",
      "- \"Bob\"\n",
      "\n",
      "This means it would skip \"Book Three\" (which has no author) and only provide unique authors, making it a concise way to filter and yield distinct author names from a collection of books. \n",
      "\n",
      "### Summary:\n",
      "To sum it up, this code is effective for extracting unique author names from a list of books where the author is defined, and then yielding them for further processing or iteration.\n"
     ]
    }
   ],
   "source": [
    "openai = OpenAI()\n",
    "\n",
    "response = openai.chat.completions.create(model=MODEL_GPT,\n",
    "                                          messages = [\n",
    "                                                {\"role\": \"system\", \"content\": system_prompt},\n",
    "                                                {\"role\": \"user\", \"content\": question}\n",
    "                                            ],\n",
    "                                         stream = False\n",
    "                                         )\n",
    "print(response.choices[0].message.content)"
   ]
  },
  {
   "cell_type": "code",
   "execution_count": 32,
   "id": "8f7c8ea8-4082-4ad0-8751-3301adcf6538",
   "metadata": {},
   "outputs": [
    {
     "data": {
      "text/markdown": [
       "**Breaking Down the Code**\n",
       "\n",
       "This code is written in Python and utilizes a feature called \"yield from\" to generate an iterator that yields values from another iterable.\n",
       "\n",
       "**Here's the component-by-component explanation:**\n",
       "\n",
       "1. `{book.get(\"author\") for book in books if book.get(\"author\")}`:\n",
       "\t* This is a list comprehension, which creates a new iterable by applying a transformation function (in this case, `get`) to each item in an existing iterable (the `books` variable).\n",
       "\t* The expression inside the curly braces (`...`) performs one of three things depending on how the code is called:\n",
       "\t\t+ If used as a standalone expression, it returns a generator iterator: this expression would return the actual author names extracted from all entries in the \"author\" key.\n",
       "\t\t+ When part of an iterable unpacking (as in the `yield from` statement), it yields values directly: if used with `yield from`, only the actual author names are returned by the expression itself, bypassing the generator iterator creation part within this expression. \n",
       "2. `yield from {book.get(\"author\") for book in books if book.get(\"author\")}`:\n",
       "\t* This line uses the `yield from` keyword to create a new iterator that will yield values from the sub-iterator.\n",
       "\t* However, due to how generator expressions like `{...}` work, this can't actually be an \"ordinary\" use of `yield from`. The inner expression is being evaluated and then immediately discarded (due to lazy evaluation requirements) as soon as the outer function starts its first execution. Therefore it is a bit more tricky for readability purposes.\n",
       "\n",
       "**What Does It Do?**\n",
       "\n",
       "In summary, this code extracts author names from the \"author\" key of each item in the `books` iterable.\n",
       "\n",
       "While writing like `{...}` yields values by itself as long as a subsequent function takes part with **yield from ...*** , using it with 'yield from' inside another iteratable requires that that outer iterable (a loop/ generator, for instance) does not consume any items of this other iterator. Here is an improved and more proper alternative to this.\n",
       "\n",
       "python\n",
       "for book in books:\n",
       "    if book.get(\"author\"):\n",
       "        yield book.get(\"author\")\n",
       "\n",
       "\n",
       "or \n",
       "\n",
       "if you're using Python 3.8 or later it can be done like so for cleaner readability:\n",
       "\n",
       "python\n",
       "def get_authors(books):\n",
       "    return (book[\"author\"] for book in books if \"author\" in book)\n",
       "# Usage: authors = get_authors(books)\n",
       "for author in authors:\n",
       "    print(author)\n",
       "\n",
       "The original intention seems to be a sort of list comprehension or `map()`-like transformation operation, but without using actual iteration over the dictionary items (`book.get(\"author\")`) which can simplify this expression by directly returning the items which correspond to the \"author\" mapping.\n",
       "\n",
       "However, there are issues with this expression as it will indeed yield values (namely, all the actual author names returned from `book=\"...\"` for `key=...\"`), but due to the nature of how some list comprehensions work in Python (where only a subexpression is executed when assigned and not an entire list as one's might expect here) this yields a list iterator rather than what was initially shown."
      ],
      "text/plain": [
       "<IPython.core.display.Markdown object>"
      ]
     },
     "metadata": {},
     "output_type": "display_data"
    }
   ],
   "source": [
    "# Get Llama 3.2 to answer\n",
    "openai = OpenAI(base_url='http://localhost:11434/v1', api_key='ollama')\n",
    "\n",
    "stream = openai.chat.completions.create(\n",
    "    model=MODEL_LLAMA,\n",
    "    messages=[\n",
    "        {\"role\": \"system\", \"content\": system_prompt},\n",
    "        {\"role\": \"user\", \"content\": question}\n",
    "    ],\n",
    "    stream=True\n",
    ")\n",
    "response = \"\"\n",
    "display_handle = display(Markdown(\"\"), display_id=True)\n",
    "for chunk in stream:\n",
    "    response += chunk.choices[0].delta.content or ''\n",
    "    response = response.replace(\"```\",\"\").replace(\"markdown\", \"\")\n",
    "    update_display(Markdown(response), display_id=display_handle.display_id)"
   ]
  },
  {
   "cell_type": "code",
   "execution_count": 43,
   "id": "3e446b61-b548-4bf6-a868-118f26f4519b",
   "metadata": {},
   "outputs": [],
   "source": [
    "OLLAMA_API = \"http://localhost:11434/api/chat\"\n",
    "MODEL_LLAMA = \"llama3.2\"\n",
    "HEADERS = {'Content-type':'application/json'}\n",
    "messages=[\n",
    "        {\"role\": \"system\", \"content\": system_prompt},\n",
    "        {\"role\": \"user\", \"content\": question}\n",
    "    ]"
   ]
  },
  {
   "cell_type": "code",
   "execution_count": 44,
   "id": "eaab9083-2a9e-4204-be44-59550bd5399e",
   "metadata": {},
   "outputs": [],
   "source": [
    "payload = {\n",
    "    \"model\":MODEL_LLAMA,\n",
    "    \"messages\":messages,\n",
    "    \"stream\":False\n",
    "}"
   ]
  },
  {
   "cell_type": "code",
   "execution_count": 48,
   "id": "2e22fd81-b450-48bd-801f-27fb5e73f690",
   "metadata": {},
   "outputs": [
    {
     "name": "stdout",
     "output_type": "stream",
     "text": [
      "This is a Python code snippet that utilizes the `yield` keyword and the `from` keyword to create an iterator. Let's break it down:\n",
      "\n",
      "**The `yield from` syntax**\n",
      "\n",
      "In Python, `yield from` is used to delegate iteration to another iterable (like a generator or another list). It allows you to write more complex iteration logic without having to explicitly use loops.\n",
      "\n",
      "**The expression inside the parentheses**\n",
      "\n",
      " Inside the parentheses, we have an expression that creates an iterator using a generator expression. Here's what it does:\n",
      "\n",
      "1. `book.get(\"author\")` tries to get the value of the \"author\" key from each dictionary (`book`) in the collection.\n",
      "2. `{... for book in books if book.get(\"author\")}` applies two conditions:\n",
      "\t* Each `book` must exist in the `books` collection.\n",
      "\t* The `book` must have a valid value for the \"author\" key (i.e., `book.get(\"author\")` doesn't raise an error).\n",
      "\n",
      "The resulting iterator yields each author's name.\n",
      "\n",
      "**How it works**\n",
      "\n",
      "When you call this code, it will iterate over the `books` collection and:\n",
      "\n",
      "1. For each book, check if it has a valid value for the \"author\" key.\n",
      "2. If the book has a valid author, yield the author's name using the generator expression.\n",
      "\n",
      "The `yield from` keyword then takes ownership of this iterator and makes its contents available to other parts of your code. This is particularly useful when you want to simplify complex iteration logic or create an iterator that combines multiple sources.\n",
      "\n",
      "**Example usage**\n",
      "\n",
      "Suppose you have a list of books with their author information:\n",
      "```python\n",
      "books = [\n",
      "    {\"title\": \"Book 1\", \"author\": \"Author A\"},\n",
      "    {\"title\": \"Book 2\", \"author\": None},  # invalid author value\n",
      "    {\"title\": \"Book 3\", \"author\": \"Author C\"}\n",
      "]\n",
      "\n",
      "authors = yield from {book.get(\"author\") for book in books if book.get(\"author\")}\n",
      "print(authors)  # Output: [\"Author A\", \"Author C\"]\n",
      "```\n",
      "In this example, the `yield from` expression creates an iterator that yields each author's name. The `books` collection is iterated over, and only books with valid authors are included in the output.\n",
      "\n",
      "Overall, this code snippet demonstrates how to create a simple iterator that filters and extracts data from a large collection using generator expressions and the `yield from` syntax.\n"
     ]
    }
   ],
   "source": [
    "import requests\n",
    "\n",
    "response = requests.post(OLLAMA_API,json=payload,headers=HEADERS)\n",
    "print(response.json()['message']['content'])\n"
   ]
  },
  {
   "cell_type": "code",
   "execution_count": 54,
   "id": "2f2241a0-4b60-499f-b956-97e3d6da27a8",
   "metadata": {},
   "outputs": [
    {
     "name": "stdout",
     "output_type": "stream",
     "text": [
      "**Code Breakdown**\n",
      "\n",
      "This code is written in Python and utilizes the `yield` keyword, which is used to define generators. A generator is a special type of function that can be used to generate a sequence of values.\n",
      "\n",
      "Here's what this specific line of code does:\n",
      "\n",
      "- `{book.get(\"author\") for book in books if book.get(\"author\")}`: This is a generator expression. It's similar to a list comprehension, but instead of creating a new list, it generates a sequence of values on-the-fly. The `if` clause filters out any items from the `books` collection that don't have an \"author\" key.\n",
      "\n",
      "- `yield from`: This keyword is used to delegate to other iterables, effectively yielding each item in those iterables.\n",
      "\n",
      "So, when we put it all together:\n",
      "\n",
      "```python\n",
      "yield from {book.get(\"author\") for book in books if book.get(\"author\")}\n",
      "```\n",
      "\n",
      "This line of code generates a sequence of author names and then yields each one. The `yield from` keyword takes the generator expression `{...}` and yields its values.\n",
      "\n",
      "**What this code does:**\n",
      "\n",
      "In essence, this code is filtering out any items from the `books` collection that don't have an \"author\" key, and then yielding each author's name.\n",
      "\n",
      "For example, if `books` is a list of dictionaries containing information about books, where each dictionary has an \"author\" key, this line of code would:\n",
      "\n",
      "- Filter out any items from `books` that don't have an \"author\" key.\n",
      "- Yield the authors' names for the remaining items.\n",
      "\n",
      "**Example use case:**\n",
      "\n",
      "Suppose we're working with a collection of book objects, and we want to extract the author's name for each book in the collection. We could use this code like so:\n",
      "\n",
      "```python\n",
      "books = [\n",
      "    {\"title\": \"Book 1\", \"author\": \"Author 1\"},\n",
      "    {\"title\": \"Book 2\", \"author\": None},\n",
      "    {\"title\": \"Book 3\", \"author\": \"Author 3\"}\n",
      "]\n",
      "\n",
      "authors = yield from {book.get(\"author\") for book in books if book.get(\"author\")}\n",
      "print(authors)  # Output: [\"Author 1\", \"Author 3\"]\n",
      "```\n",
      "\n",
      "In this example, the `yield from` expression filters out any books without an author's name and yields the authors' names for the remaining items.\n"
     ]
    }
   ],
   "source": [
    "import ollama\n",
    "\n",
    "response = ollama.chat(model=MODEL_LLAMA, messages=messages)\n",
    "print(response['message']['content'])"
   ]
  },
  {
   "cell_type": "code",
   "execution_count": null,
   "id": "d2689400-dbbe-405a-b7b6-902d4d7dee9f",
   "metadata": {},
   "outputs": [],
   "source": []
  }
 ],
 "metadata": {
  "kernelspec": {
   "display_name": "Python 3 (ipykernel)",
   "language": "python",
   "name": "python3"
  },
  "language_info": {
   "codemirror_mode": {
    "name": "ipython",
    "version": 3
   },
   "file_extension": ".py",
   "mimetype": "text/x-python",
   "name": "python",
   "nbconvert_exporter": "python",
   "pygments_lexer": "ipython3",
   "version": "3.11.11"
  }
 },
 "nbformat": 4,
 "nbformat_minor": 5
}
