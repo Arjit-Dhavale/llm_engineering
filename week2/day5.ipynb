{
 "cells": [
  {
   "cell_type": "markdown",
   "id": "ddfa9ae6-69fe-444a-b994-8c4c5970a7ec",
   "metadata": {},
   "source": [
    "# Project - Airline AI Assistant\n",
    "\n",
    "We'll now bring together what we've learned to make an AI Customer Support assistant for an Airline"
   ]
  },
  {
   "cell_type": "code",
   "execution_count": 3,
   "id": "8b50bbe2-c0b1-49c3-9a5c-1ba7efa2bcb4",
   "metadata": {},
   "outputs": [],
   "source": [
    "# imports\n",
    "\n",
    "import os\n",
    "import json\n",
    "from dotenv import load_dotenv\n",
    "from openai import OpenAI\n",
    "import gradio as gr"
   ]
  },
  {
   "cell_type": "code",
   "execution_count": 4,
   "id": "747e8786-9da8-4342-b6c9-f5f69c2e22ae",
   "metadata": {},
   "outputs": [
    {
     "name": "stdout",
     "output_type": "stream",
     "text": [
      "OpenAI API Key exists and begins sk-proj-\n"
     ]
    }
   ],
   "source": [
    "# Initialization\n",
    "\n",
    "load_dotenv(override=True)\n",
    "\n",
    "openai_api_key = os.getenv('OPENAI_API_KEY')\n",
    "if openai_api_key:\n",
    "    print(f\"OpenAI API Key exists and begins {openai_api_key[:8]}\")\n",
    "else:\n",
    "    print(\"OpenAI API Key not set\")\n",
    "    \n",
    "MODEL = \"gpt-4o-mini\"\n",
    "openai = OpenAI()"
   ]
  },
  {
   "cell_type": "code",
   "execution_count": null,
   "id": "0a521d84-d07c-49ab-a0df-d6451499ed97",
   "metadata": {},
   "outputs": [],
   "source": [
    "system_message = \"You are a helpful assistant for an Airline called FlightAI. \"\n",
    "system_message += \"Give short, courteous answers, no more than 1 sentence. \"\n",
    "system_message += \"Always be accurate. If you don't know the answer, say so.\""
   ]
  },
  {
   "cell_type": "code",
   "execution_count": null,
   "id": "61a2a15d-b559-4844-b377-6bd5cb4949f6",
   "metadata": {},
   "outputs": [],
   "source": [
    "# This function looks rather simpler than the one from my video, because we're taking advantage of the latest Gradio updates\n",
    "\n",
    "def chat(message, history):\n",
    "    messages = [{\"role\": \"system\", \"content\": system_message}] + history + [{\"role\": \"user\", \"content\": message}]\n",
    "    response = openai.chat.completions.create(model=MODEL, messages=messages)\n",
    "    return response.choices[0].message.content\n",
    "\n",
    "gr.ChatInterface(fn=chat, type=\"messages\").launch()"
   ]
  },
  {
   "cell_type": "markdown",
   "id": "36bedabf-a0a7-4985-ad8e-07ed6a55a3a4",
   "metadata": {},
   "source": [
    "## Tools\n",
    "\n",
    "Tools are an incredibly powerful feature provided by the frontier LLMs.\n",
    "\n",
    "With tools, you can write a function, and have the LLM call that function as part of its response.\n",
    "\n",
    "Sounds almost spooky.. we're giving it the power to run code on our machine?\n",
    "\n",
    "Well, kinda."
   ]
  },
  {
   "cell_type": "code",
   "execution_count": null,
   "id": "0696acb1-0b05-4dc2-80d5-771be04f1fb2",
   "metadata": {},
   "outputs": [],
   "source": [
    "# Let's start by making a useful function\n",
    "\n",
    "ticket_prices = {\"london\": \"$799\", \"paris\": \"$899\", \"tokyo\": \"$1400\", \"berlin\": \"$499\"}\n",
    "\n",
    "def get_ticket_price(destination_city):\n",
    "    print(f\"Tool get_ticket_price called for {destination_city}\")\n",
    "    city = destination_city.lower()\n",
    "    return ticket_prices.get(city, \"Unknown\")"
   ]
  },
  {
   "cell_type": "code",
   "execution_count": null,
   "id": "80ca4e09-6287-4d3f-997d-fa6afbcf6c85",
   "metadata": {},
   "outputs": [],
   "source": [
    "get_ticket_price(\"London\")"
   ]
  },
  {
   "cell_type": "code",
   "execution_count": null,
   "id": "4afceded-7178-4c05-8fa6-9f2085e6a344",
   "metadata": {},
   "outputs": [],
   "source": [
    "# There's a particular dictionary structure that's required to describe our function:\n",
    "\n",
    "price_function = {\n",
    "    \"name\": \"get_ticket_price\",\n",
    "    \"description\": \"Get the price of a return ticket to the destination city. Call this whenever you need to know the ticket price, for example when a customer asks 'How much is a ticket to this city'\",\n",
    "    \"parameters\": {\n",
    "        \"type\": \"object\",\n",
    "        \"properties\": {\n",
    "            \"destination_city\": {\n",
    "                \"type\": \"string\",\n",
    "                \"description\": \"The city that the customer wants to travel to\",\n",
    "            },\n",
    "        },\n",
    "        \"required\": [\"destination_city\"],\n",
    "        \"additionalProperties\": False\n",
    "    }\n",
    "}"
   ]
  },
  {
   "cell_type": "code",
   "execution_count": null,
   "id": "bdca8679-935f-4e7f-97e6-e71a4d4f228c",
   "metadata": {},
   "outputs": [],
   "source": [
    "# And this is included in a list of tools:\n",
    "\n",
    "tools = [{\"type\": \"function\", \"function\": price_function}]"
   ]
  },
  {
   "cell_type": "markdown",
   "id": "c3d3554f-b4e3-4ce7-af6f-68faa6dd2340",
   "metadata": {},
   "source": [
    "## Getting OpenAI to use our Tool\n",
    "\n",
    "There's some fiddly stuff to allow OpenAI \"to call our tool\"\n",
    "\n",
    "What we actually do is give the LLM the opportunity to inform us that it wants us to run the tool.\n",
    "\n",
    "Here's how the new chat function looks:"
   ]
  },
  {
   "cell_type": "code",
   "execution_count": null,
   "id": "ce9b0744-9c78-408d-b9df-9f6fd9ed78cf",
   "metadata": {},
   "outputs": [],
   "source": [
    "def chat(message, history):\n",
    "    messages = [{\"role\": \"system\", \"content\": system_message}] + history + [{\"role\": \"user\", \"content\": message}]\n",
    "    response = openai.chat.completions.create(model=MODEL, messages=messages, tools=tools)\n",
    "\n",
    "    if response.choices[0].finish_reason==\"tool_calls\":\n",
    "        message = response.choices[0].message\n",
    "        response, city = handle_tool_call(message)\n",
    "        messages.append(message)\n",
    "        messages.append(response)\n",
    "        response = openai.chat.completions.create(model=MODEL, messages=messages)\n",
    "    \n",
    "    return response.choices[0].message.content"
   ]
  },
  {
   "cell_type": "code",
   "execution_count": null,
   "id": "b0992986-ea09-4912-a076-8e5603ee631f",
   "metadata": {},
   "outputs": [],
   "source": [
    "# We have to write that function handle_tool_call:\n",
    "\n",
    "def handle_tool_call(message):\n",
    "    tool_call = message.tool_calls[0]\n",
    "    arguments = json.loads(tool_call.function.arguments)\n",
    "    city = arguments.get('destination_city')\n",
    "    price = get_ticket_price(city)\n",
    "    response = {\n",
    "        \"role\": \"tool\",\n",
    "        \"content\": json.dumps({\"destination_city\": city,\"price\": price}),\n",
    "        \"tool_call_id\": tool_call.id\n",
    "    }\n",
    "    return response, city"
   ]
  },
  {
   "cell_type": "code",
   "execution_count": null,
   "id": "f4be8a71-b19e-4c2f-80df-f59ff2661f14",
   "metadata": {},
   "outputs": [],
   "source": [
    "gr.ChatInterface(fn=chat, type=\"messages\").launch()"
   ]
  },
  {
   "cell_type": "markdown",
   "id": "473e5b39-da8f-4db1-83ae-dbaca2e9531e",
   "metadata": {},
   "source": [
    "# Let's go multi-modal!!\n",
    "\n",
    "We can use DALL-E-3, the image generation model behind GPT-4o, to make us some images\n",
    "\n",
    "Let's put this in a function called artist.\n",
    "\n",
    "### Price alert: each time I generate an image it costs about 4 cents - don't go crazy with images!"
   ]
  },
  {
   "cell_type": "code",
   "execution_count": 8,
   "id": "2c27c4ba-8ed5-492f-add1-02ce9c81d34c",
   "metadata": {},
   "outputs": [],
   "source": [
    "# Some imports for handling images\n",
    "\n",
    "import base64\n",
    "from io import BytesIO\n",
    "from PIL import Image"
   ]
  },
  {
   "cell_type": "code",
   "execution_count": 2,
   "id": "773a9f11-557e-43c9-ad50-56cbec3a0f8f",
   "metadata": {},
   "outputs": [],
   "source": [
    "def artist(city):\n",
    "    image_response = openai.images.generate(\n",
    "            model=\"dall-e-3\",\n",
    "            prompt=f\"An image representing a vacation in {city}, showing tourist spots and everything unique about {city}, in a vibrant pop-art style\",\n",
    "            size=\"1024x1024\",\n",
    "            n=1,\n",
    "            response_format=\"b64_json\",\n",
    "        )\n",
    "    image_base64 = image_response.data[0].b64_json\n",
    "    image_data = base64.b64decode(image_base64)\n",
    "    return Image.open(BytesIO(image_data))"
   ]
  },
  {
   "cell_type": "code",
   "execution_count": null,
   "id": "d877c453-e7fb-482a-88aa-1a03f976b9e9",
   "metadata": {},
   "outputs": [],
   "source": [
    "image = artist(\"New York City\")\n",
    "display(image)"
   ]
  },
  {
   "cell_type": "code",
   "execution_count": null,
   "id": "728a12c5-adc3-415d-bb05-82beb73b079b",
   "metadata": {},
   "outputs": [],
   "source": []
  },
  {
   "cell_type": "markdown",
   "id": "f4975b87-19e9-4ade-a232-9b809ec75c9a",
   "metadata": {},
   "source": [
    "## Audio (NOTE - Audio is optional for this course - feel free to skip Audio if it causes trouble!)\n",
    "\n",
    "And let's make a function talker that uses OpenAI's speech model to generate Audio\n",
    "\n",
    "### Troubleshooting Audio issues\n",
    "\n",
    "If you have any problems running this code below (like a FileNotFound error, or a warning of a missing package), you may need to install FFmpeg, a very popular audio utility.\n",
    "\n",
    "**For PC Users**\n",
    "\n",
    "Detailed instructions are [here](https://chatgpt.com/share/6724efee-6b0c-8012-ac5e-72e2e3885905) and summary instructions:\n",
    "\n",
    "1. Download FFmpeg from the official website: https://ffmpeg.org/download.html\n",
    "\n",
    "2. Extract the downloaded files to a location on your computer (e.g., `C:\\ffmpeg`)\n",
    "\n",
    "3. Add the FFmpeg bin folder to your system PATH:\n",
    "- Right-click on 'This PC' or 'My Computer' and select 'Properties'\n",
    "- Click on 'Advanced system settings'\n",
    "- Click on 'Environment Variables'\n",
    "- Under 'System variables', find and edit 'Path'\n",
    "- Add a new entry with the path to your FFmpeg bin folder (e.g., `C:\\ffmpeg\\bin`)\n",
    "- Restart your command prompt, and within Jupyter Lab do Kernel -> Restart kernel, to pick up the changes\n",
    "\n",
    "4. Open a new command prompt and run this to make sure it's installed OK\n",
    "`ffmpeg -version`\n",
    "\n",
    "**For Mac Users**\n",
    "\n",
    "1. Install homebrew if you don't have it already by running this in a Terminal window and following any instructions:  \n",
    "`/bin/bash -c \"$(curl -fsSL https://raw.githubusercontent.com/Homebrew/install/HEAD/install.sh)\"`\n",
    "\n",
    "2. Then install FFmpeg with `brew install ffmpeg`\n",
    "\n",
    "3. Verify your installation with `ffmpeg -version` and if everything is good, within Jupyter Lab do Kernel -> Restart kernel to pick up the changes\n",
    "\n",
    "Message me or email me at ed@edwarddonner.com with any problems!"
   ]
  },
  {
   "cell_type": "markdown",
   "id": "4cc90e80-c96e-4dd4-b9d6-386fe2b7e797",
   "metadata": {},
   "source": [
    "## To check you now have ffmpeg and can access it here\n",
    "\n",
    "Excecute the next cell to see if you get a version number. (Putting an exclamation mark before something in Jupyter Lab tells it to run it as a terminal command rather than python code).\n",
    "\n",
    "If this doesn't work, you may need to actually save and close down your Jupyter lab, and start it again from a new Terminal window (Mac) or Anaconda prompt (PC), remembering to activate the llms environment. This ensures you pick up ffmpeg.\n",
    "\n",
    "And if that doesn't work, please contact me!"
   ]
  },
  {
   "cell_type": "code",
   "execution_count": 1,
   "id": "7b3be0fb-1d34-4693-ab6f-dbff190afcd7",
   "metadata": {},
   "outputs": [
    {
     "name": "stdout",
     "output_type": "stream",
     "text": [
      "ffmpeg version 2025-03-20-git-76f09ab647-full_build-www.gyan.dev Copyright (c) 2000-2025 the FFmpeg developers\n",
      "built with gcc 14.2.0 (Rev1, Built by MSYS2 project)\n",
      "configuration: --enable-gpl --enable-version3 --enable-static --disable-w32threads --disable-autodetect --enable-fontconfig --enable-iconv --enable-gnutls --enable-lcms2 --enable-libxml2 --enable-gmp --enable-bzlib --enable-lzma --enable-libsnappy --enable-zlib --enable-librist --enable-libsrt --enable-libssh --enable-libzmq --enable-avisynth --enable-libbluray --enable-libcaca --enable-libdvdnav --enable-libdvdread --enable-sdl2 --enable-libaribb24 --enable-libaribcaption --enable-libdav1d --enable-libdavs2 --enable-libopenjpeg --enable-libquirc --enable-libuavs3d --enable-libxevd --enable-libzvbi --enable-libqrencode --enable-librav1e --enable-libsvtav1 --enable-libvvenc --enable-libwebp --enable-libx264 --enable-libx265 --enable-libxavs2 --enable-libxeve --enable-libxvid --enable-libaom --enable-libjxl --enable-libvpx --enable-mediafoundation --enable-libass --enable-frei0r --enable-libfreetype --enable-libfribidi --enable-libharfbuzz --enable-liblensfun --enable-libvidstab --enable-libvmaf --enable-libzimg --enable-amf --enable-cuda-llvm --enable-cuvid --enable-dxva2 --enable-d3d11va --enable-d3d12va --enable-ffnvcodec --enable-libvpl --enable-nvdec --enable-nvenc --enable-vaapi --enable-libshaderc --enable-vulkan --enable-libplacebo --enable-opencl --enable-libcdio --enable-libgme --enable-libmodplug --enable-libopenmpt --enable-libopencore-amrwb --enable-libmp3lame --enable-libshine --enable-libtheora --enable-libtwolame --enable-libvo-amrwbenc --enable-libcodec2 --enable-libilbc --enable-libgsm --enable-liblc3 --enable-libopencore-amrnb --enable-libopus --enable-libspeex --enable-libvorbis --enable-ladspa --enable-libbs2b --enable-libflite --enable-libmysofa --enable-librubberband --enable-libsoxr --enable-chromaprint\n",
      "libavutil      59. 60.100 / 59. 60.100\n",
      "libavcodec     61. 33.102 / 61. 33.102\n",
      "libavformat    61.  9.107 / 61.  9.107\n",
      "libavdevice    61.  4.100 / 61.  4.100\n",
      "libavfilter    10.  9.100 / 10.  9.100\n",
      "libswscale      8. 13.103 /  8. 13.103\n",
      "libswresample   5.  4.100 /  5.  4.100\n",
      "libpostproc    58.  4.100 / 58.  4.100\n",
      "ffprobe version 2025-03-20-git-76f09ab647-full_build-www.gyan.dev Copyright (c) 2007-2025 the FFmpeg developers\n",
      "built with gcc 14.2.0 (Rev1, Built by MSYS2 project)\n",
      "configuration: --enable-gpl --enable-version3 --enable-static --disable-w32threads --disable-autodetect --enable-fontconfig --enable-iconv --enable-gnutls --enable-lcms2 --enable-libxml2 --enable-gmp --enable-bzlib --enable-lzma --enable-libsnappy --enable-zlib --enable-librist --enable-libsrt --enable-libssh --enable-libzmq --enable-avisynth --enable-libbluray --enable-libcaca --enable-libdvdnav --enable-libdvdread --enable-sdl2 --enable-libaribb24 --enable-libaribcaption --enable-libdav1d --enable-libdavs2 --enable-libopenjpeg --enable-libquirc --enable-libuavs3d --enable-libxevd --enable-libzvbi --enable-libqrencode --enable-librav1e --enable-libsvtav1 --enable-libvvenc --enable-libwebp --enable-libx264 --enable-libx265 --enable-libxavs2 --enable-libxeve --enable-libxvid --enable-libaom --enable-libjxl --enable-libvpx --enable-mediafoundation --enable-libass --enable-frei0r --enable-libfreetype --enable-libfribidi --enable-libharfbuzz --enable-liblensfun --enable-libvidstab --enable-libvmaf --enable-libzimg --enable-amf --enable-cuda-llvm --enable-cuvid --enable-dxva2 --enable-d3d11va --enable-d3d12va --enable-ffnvcodec --enable-libvpl --enable-nvdec --enable-nvenc --enable-vaapi --enable-libshaderc --enable-vulkan --enable-libplacebo --enable-opencl --enable-libcdio --enable-libgme --enable-libmodplug --enable-libopenmpt --enable-libopencore-amrwb --enable-libmp3lame --enable-libshine --enable-libtheora --enable-libtwolame --enable-libvo-amrwbenc --enable-libcodec2 --enable-libilbc --enable-libgsm --enable-liblc3 --enable-libopencore-amrnb --enable-libopus --enable-libspeex --enable-libvorbis --enable-ladspa --enable-libbs2b --enable-libflite --enable-libmysofa --enable-librubberband --enable-libsoxr --enable-chromaprint\n",
      "libavutil      59. 60.100 / 59. 60.100\n",
      "libavcodec     61. 33.102 / 61. 33.102\n",
      "libavformat    61.  9.107 / 61.  9.107\n",
      "libavdevice    61.  4.100 / 61.  4.100\n",
      "libavfilter    10.  9.100 / 10.  9.100\n",
      "libswscale      8. 13.103 /  8. 13.103\n",
      "libswresample   5.  4.100 /  5.  4.100\n",
      "libpostproc    58.  4.100 / 58.  4.100\n",
      "ffplay version 2025-03-20-git-76f09ab647-full_build-www.gyan.dev Copyright (c) 2003-2025 the FFmpeg developers\n",
      "built with gcc 14.2.0 (Rev1, Built by MSYS2 project)\n",
      "configuration: --enable-gpl --enable-version3 --enable-static --disable-w32threads --disable-autodetect --enable-fontconfig --enable-iconv --enable-gnutls --enable-lcms2 --enable-libxml2 --enable-gmp --enable-bzlib --enable-lzma --enable-libsnappy --enable-zlib --enable-librist --enable-libsrt --enable-libssh --enable-libzmq --enable-avisynth --enable-libbluray --enable-libcaca --enable-libdvdnav --enable-libdvdread --enable-sdl2 --enable-libaribb24 --enable-libaribcaption --enable-libdav1d --enable-libdavs2 --enable-libopenjpeg --enable-libquirc --enable-libuavs3d --enable-libxevd --enable-libzvbi --enable-libqrencode --enable-librav1e --enable-libsvtav1 --enable-libvvenc --enable-libwebp --enable-libx264 --enable-libx265 --enable-libxavs2 --enable-libxeve --enable-libxvid --enable-libaom --enable-libjxl --enable-libvpx --enable-mediafoundation --enable-libass --enable-frei0r --enable-libfreetype --enable-libfribidi --enable-libharfbuzz --enable-liblensfun --enable-libvidstab --enable-libvmaf --enable-libzimg --enable-amf --enable-cuda-llvm --enable-cuvid --enable-dxva2 --enable-d3d11va --enable-d3d12va --enable-ffnvcodec --enable-libvpl --enable-nvdec --enable-nvenc --enable-vaapi --enable-libshaderc --enable-vulkan --enable-libplacebo --enable-opencl --enable-libcdio --enable-libgme --enable-libmodplug --enable-libopenmpt --enable-libopencore-amrwb --enable-libmp3lame --enable-libshine --enable-libtheora --enable-libtwolame --enable-libvo-amrwbenc --enable-libcodec2 --enable-libilbc --enable-libgsm --enable-liblc3 --enable-libopencore-amrnb --enable-libopus --enable-libspeex --enable-libvorbis --enable-ladspa --enable-libbs2b --enable-libflite --enable-libmysofa --enable-librubberband --enable-libsoxr --enable-chromaprint\n",
      "libavutil      59. 60.100 / 59. 60.100\n",
      "libavcodec     61. 33.102 / 61. 33.102\n",
      "libavformat    61.  9.107 / 61.  9.107\n",
      "libavdevice    61.  4.100 / 61.  4.100\n",
      "libavfilter    10.  9.100 / 10.  9.100\n",
      "libswscale      8. 13.103 /  8. 13.103\n",
      "libswresample   5.  4.100 /  5.  4.100\n",
      "libpostproc    58.  4.100 / 58.  4.100\n"
     ]
    }
   ],
   "source": [
    "!ffmpeg -version\n",
    "!ffprobe -version\n",
    "!ffplay -version"
   ]
  },
  {
   "cell_type": "markdown",
   "id": "d91d3f8f-e505-4e3c-a87c-9e42ed823db6",
   "metadata": {},
   "source": [
    "# For Mac users - and possibly many PC users too\n",
    "\n",
    "This version should work fine for you. It might work for Windows users too, but you might get a Permissions error writing to a temp file. If so, see the next section!\n",
    "\n",
    "As always, if you have problems, please contact me! (You could also comment out the audio talker() in the later code if you're less interested in audio generation)"
   ]
  },
  {
   "cell_type": "code",
   "execution_count": 6,
   "id": "ffbfe93b-5e86-4e68-ba71-b301cd5230db",
   "metadata": {},
   "outputs": [],
   "source": [
    "from pydub import AudioSegment\n",
    "from pydub.playback import play\n",
    "\n",
    "def talker(message):\n",
    "    response = openai.audio.speech.create(\n",
    "      model=\"tts-1\",\n",
    "      voice=\"onyx\",    # Also, try replacing onyx with alloy\n",
    "      input=message\n",
    "    )\n",
    "    \n",
    "    audio_stream = BytesIO(response.content)\n",
    "    audio = AudioSegment.from_file(audio_stream, format=\"mp3\")\n",
    "    play(audio)"
   ]
  },
  {
   "cell_type": "code",
   "execution_count": 9,
   "id": "b88d775d-d357-4292-a1ad-5dc5ed567281",
   "metadata": {},
   "outputs": [
    {
     "ename": "PermissionError",
     "evalue": "[Errno 13] Permission denied: 'C:\\\\Users\\\\arjit\\\\AppData\\\\Local\\\\Temp\\\\tmp4rwrmxwq.wav'",
     "output_type": "error",
     "traceback": [
      "\u001b[1;31m---------------------------------------------------------------------------\u001b[0m",
      "\u001b[1;31mPermissionError\u001b[0m                           Traceback (most recent call last)",
      "Cell \u001b[1;32mIn[9], line 1\u001b[0m\n\u001b[1;32m----> 1\u001b[0m \u001b[43mtalker\u001b[49m\u001b[43m(\u001b[49m\u001b[38;5;124;43m\"\u001b[39;49m\u001b[38;5;124;43mWell, hi there\u001b[39;49m\u001b[38;5;124;43m\"\u001b[39;49m\u001b[43m)\u001b[49m\n",
      "Cell \u001b[1;32mIn[6], line 13\u001b[0m, in \u001b[0;36mtalker\u001b[1;34m(message)\u001b[0m\n\u001b[0;32m     11\u001b[0m audio_stream \u001b[38;5;241m=\u001b[39m BytesIO(response\u001b[38;5;241m.\u001b[39mcontent)\n\u001b[0;32m     12\u001b[0m audio \u001b[38;5;241m=\u001b[39m AudioSegment\u001b[38;5;241m.\u001b[39mfrom_file(audio_stream, \u001b[38;5;28mformat\u001b[39m\u001b[38;5;241m=\u001b[39m\u001b[38;5;124m\"\u001b[39m\u001b[38;5;124mmp3\u001b[39m\u001b[38;5;124m\"\u001b[39m)\n\u001b[1;32m---> 13\u001b[0m \u001b[43mplay\u001b[49m\u001b[43m(\u001b[49m\u001b[43maudio\u001b[49m\u001b[43m)\u001b[49m\n",
      "File \u001b[1;32m~\\anaconda3\\envs\\llms\\Lib\\site-packages\\pydub\\playback.py:71\u001b[0m, in \u001b[0;36mplay\u001b[1;34m(audio_segment)\u001b[0m\n\u001b[0;32m     68\u001b[0m \u001b[38;5;28;01melse\u001b[39;00m:\n\u001b[0;32m     69\u001b[0m     \u001b[38;5;28;01mreturn\u001b[39;00m\n\u001b[1;32m---> 71\u001b[0m \u001b[43m_play_with_ffplay\u001b[49m\u001b[43m(\u001b[49m\u001b[43maudio_segment\u001b[49m\u001b[43m)\u001b[49m\n",
      "File \u001b[1;32m~\\anaconda3\\envs\\llms\\Lib\\site-packages\\pydub\\playback.py:15\u001b[0m, in \u001b[0;36m_play_with_ffplay\u001b[1;34m(seg)\u001b[0m\n\u001b[0;32m     13\u001b[0m PLAYER \u001b[38;5;241m=\u001b[39m get_player_name()\n\u001b[0;32m     14\u001b[0m \u001b[38;5;28;01mwith\u001b[39;00m NamedTemporaryFile(\u001b[38;5;124m\"\u001b[39m\u001b[38;5;124mw+b\u001b[39m\u001b[38;5;124m\"\u001b[39m, suffix\u001b[38;5;241m=\u001b[39m\u001b[38;5;124m\"\u001b[39m\u001b[38;5;124m.wav\u001b[39m\u001b[38;5;124m\"\u001b[39m) \u001b[38;5;28;01mas\u001b[39;00m f:\n\u001b[1;32m---> 15\u001b[0m     \u001b[43mseg\u001b[49m\u001b[38;5;241;43m.\u001b[39;49m\u001b[43mexport\u001b[49m\u001b[43m(\u001b[49m\u001b[43mf\u001b[49m\u001b[38;5;241;43m.\u001b[39;49m\u001b[43mname\u001b[49m\u001b[43m,\u001b[49m\u001b[43m \u001b[49m\u001b[38;5;124;43m\"\u001b[39;49m\u001b[38;5;124;43mwav\u001b[39;49m\u001b[38;5;124;43m\"\u001b[39;49m\u001b[43m)\u001b[49m\n\u001b[0;32m     16\u001b[0m     subprocess\u001b[38;5;241m.\u001b[39mcall([PLAYER, \u001b[38;5;124m\"\u001b[39m\u001b[38;5;124m-nodisp\u001b[39m\u001b[38;5;124m\"\u001b[39m, \u001b[38;5;124m\"\u001b[39m\u001b[38;5;124m-autoexit\u001b[39m\u001b[38;5;124m\"\u001b[39m, \u001b[38;5;124m\"\u001b[39m\u001b[38;5;124m-hide_banner\u001b[39m\u001b[38;5;124m\"\u001b[39m, f\u001b[38;5;241m.\u001b[39mname])\n",
      "File \u001b[1;32m~\\anaconda3\\envs\\llms\\Lib\\site-packages\\pydub\\audio_segment.py:867\u001b[0m, in \u001b[0;36mAudioSegment.export\u001b[1;34m(self, out_f, format, codec, bitrate, parameters, tags, id3v2_version, cover)\u001b[0m\n\u001b[0;32m    861\u001b[0m \u001b[38;5;28;01mif\u001b[39;00m \u001b[38;5;28mformat\u001b[39m \u001b[38;5;241m==\u001b[39m \u001b[38;5;124m\"\u001b[39m\u001b[38;5;124mraw\u001b[39m\u001b[38;5;124m\"\u001b[39m \u001b[38;5;129;01mand\u001b[39;00m (codec \u001b[38;5;129;01mis\u001b[39;00m \u001b[38;5;129;01mnot\u001b[39;00m \u001b[38;5;28;01mNone\u001b[39;00m \u001b[38;5;129;01mor\u001b[39;00m parameters \u001b[38;5;129;01mis\u001b[39;00m \u001b[38;5;129;01mnot\u001b[39;00m \u001b[38;5;28;01mNone\u001b[39;00m):\n\u001b[0;32m    862\u001b[0m     \u001b[38;5;28;01mraise\u001b[39;00m \u001b[38;5;167;01mAttributeError\u001b[39;00m(\n\u001b[0;32m    863\u001b[0m             \u001b[38;5;124m'\u001b[39m\u001b[38;5;124mCan not invoke ffmpeg when export format is \u001b[39m\u001b[38;5;124m\"\u001b[39m\u001b[38;5;124mraw\u001b[39m\u001b[38;5;124m\"\u001b[39m\u001b[38;5;124m; \u001b[39m\u001b[38;5;124m'\u001b[39m\n\u001b[0;32m    864\u001b[0m             \u001b[38;5;124m'\u001b[39m\u001b[38;5;124mspecify an ffmpeg raw format like format=\u001b[39m\u001b[38;5;124m\"\u001b[39m\u001b[38;5;124ms16le\u001b[39m\u001b[38;5;124m\"\u001b[39m\u001b[38;5;124m instead \u001b[39m\u001b[38;5;124m'\u001b[39m\n\u001b[0;32m    865\u001b[0m             \u001b[38;5;124m'\u001b[39m\u001b[38;5;124mor call export(format=\u001b[39m\u001b[38;5;124m\"\u001b[39m\u001b[38;5;124mraw\u001b[39m\u001b[38;5;124m\"\u001b[39m\u001b[38;5;124m) with no codec or parameters\u001b[39m\u001b[38;5;124m'\u001b[39m)\n\u001b[1;32m--> 867\u001b[0m out_f, _ \u001b[38;5;241m=\u001b[39m \u001b[43m_fd_or_path_or_tempfile\u001b[49m\u001b[43m(\u001b[49m\u001b[43mout_f\u001b[49m\u001b[43m,\u001b[49m\u001b[43m \u001b[49m\u001b[38;5;124;43m'\u001b[39;49m\u001b[38;5;124;43mwb+\u001b[39;49m\u001b[38;5;124;43m'\u001b[39;49m\u001b[43m)\u001b[49m\n\u001b[0;32m    868\u001b[0m out_f\u001b[38;5;241m.\u001b[39mseek(\u001b[38;5;241m0\u001b[39m)\n\u001b[0;32m    870\u001b[0m \u001b[38;5;28;01mif\u001b[39;00m \u001b[38;5;28mformat\u001b[39m \u001b[38;5;241m==\u001b[39m \u001b[38;5;124m\"\u001b[39m\u001b[38;5;124mraw\u001b[39m\u001b[38;5;124m\"\u001b[39m:\n",
      "File \u001b[1;32m~\\anaconda3\\envs\\llms\\Lib\\site-packages\\pydub\\utils.py:60\u001b[0m, in \u001b[0;36m_fd_or_path_or_tempfile\u001b[1;34m(fd, mode, tempfile)\u001b[0m\n\u001b[0;32m     57\u001b[0m     close_fd \u001b[38;5;241m=\u001b[39m \u001b[38;5;28;01mTrue\u001b[39;00m\n\u001b[0;32m     59\u001b[0m \u001b[38;5;28;01mif\u001b[39;00m \u001b[38;5;28misinstance\u001b[39m(fd, basestring):\n\u001b[1;32m---> 60\u001b[0m     fd \u001b[38;5;241m=\u001b[39m \u001b[38;5;28;43mopen\u001b[39;49m\u001b[43m(\u001b[49m\u001b[43mfd\u001b[49m\u001b[43m,\u001b[49m\u001b[43m \u001b[49m\u001b[43mmode\u001b[49m\u001b[38;5;241;43m=\u001b[39;49m\u001b[43mmode\u001b[49m\u001b[43m)\u001b[49m\n\u001b[0;32m     61\u001b[0m     close_fd \u001b[38;5;241m=\u001b[39m \u001b[38;5;28;01mTrue\u001b[39;00m\n\u001b[0;32m     63\u001b[0m \u001b[38;5;28;01mtry\u001b[39;00m:\n",
      "\u001b[1;31mPermissionError\u001b[0m: [Errno 13] Permission denied: 'C:\\\\Users\\\\arjit\\\\AppData\\\\Local\\\\Temp\\\\tmp4rwrmxwq.wav'"
     ]
    }
   ],
   "source": [
    "talker(\"Well, hi there\")"
   ]
  },
  {
   "cell_type": "markdown",
   "id": "ad89a9bd-bb1e-4bbb-a49a-83af5f500c24",
   "metadata": {},
   "source": [
    "# For Windows users (or any Mac users with problems above)\n",
    "\n",
    "## First try the Mac version above, but if you get a permissions error writing to a temp file, then this code should work instead.\n",
    "\n",
    "A collaboration between students Mark M. and Patrick H. and Claude got this resolved!\n",
    "\n",
    "Below are 4 variations - hopefully one of them will work on your PC. If not, message me please!\n",
    "\n",
    "And for Mac people - all 3 of the below work on my Mac too - please try these if the Mac version gave you problems.\n",
    "\n",
    "## PC Variation 1"
   ]
  },
  {
   "cell_type": "code",
   "execution_count": 10,
   "id": "d104b96a-02ca-4159-82fe-88e0452aa479",
   "metadata": {},
   "outputs": [
    {
     "data": {
      "text/html": [
       "\n",
       "                <audio  controls=\"controls\" autoplay=\"autoplay\">\n",
       "                    <source src=\"data:audio/mpeg;base64,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\" type=\"audio/mpeg\" />\n",
       "                    Your browser does not support the audio element.\n",
       "                </audio>\n",
       "              "
      ],
      "text/plain": [
       "<IPython.lib.display.Audio object>"
      ]
     },
     "metadata": {},
     "output_type": "display_data"
    }
   ],
   "source": [
    "import base64\n",
    "from io import BytesIO\n",
    "from PIL import Image\n",
    "from IPython.display import Audio, display\n",
    "\n",
    "def talker(message):\n",
    "    response = openai.audio.speech.create(\n",
    "        model=\"tts-1\",\n",
    "        voice=\"onyx\",\n",
    "        input=message)\n",
    "\n",
    "    audio_stream = BytesIO(response.content)\n",
    "    output_filename = \"output_audio.mp3\"\n",
    "    with open(output_filename, \"wb\") as f:\n",
    "        f.write(audio_stream.read())\n",
    "\n",
    "    # Play the generated audio\n",
    "    display(Audio(output_filename, autoplay=True))\n",
    "\n",
    "talker(\"Well, hi there\")"
   ]
  },
  {
   "cell_type": "markdown",
   "id": "3a5d11f4-bbd3-43a1-904d-f684eb5f3e3a",
   "metadata": {},
   "source": [
    "## PC Variation 2"
   ]
  },
  {
   "cell_type": "code",
   "execution_count": null,
   "id": "d59c8ebd-79c5-498a-bdf2-3a1c50d91aa0",
   "metadata": {},
   "outputs": [],
   "source": [
    "import tempfile\n",
    "import subprocess\n",
    "from io import BytesIO\n",
    "from pydub import AudioSegment\n",
    "import time\n",
    "\n",
    "def play_audio(audio_segment):\n",
    "    temp_dir = tempfile.gettempdir()\n",
    "    temp_path = os.path.join(temp_dir, \"temp_audio.wav\")\n",
    "    try:\n",
    "        audio_segment.export(temp_path, format=\"wav\")\n",
    "        time.sleep(3) # Student Dominic found that this was needed. You could also try commenting out to see if not needed on your PC\n",
    "        subprocess.call([\n",
    "            \"ffplay\",\n",
    "            \"-nodisp\",\n",
    "            \"-autoexit\",\n",
    "            \"-hide_banner\",\n",
    "            temp_path\n",
    "        ], stdout=subprocess.DEVNULL, stderr=subprocess.DEVNULL)\n",
    "    finally:\n",
    "        try:\n",
    "            os.remove(temp_path)\n",
    "        except Exception:\n",
    "            pass\n",
    " \n",
    "def talker(message):\n",
    "    response = openai.audio.speech.create(\n",
    "        model=\"tts-1\",\n",
    "        voice=\"onyx\",  # Also, try replacing onyx with alloy\n",
    "        input=message\n",
    "    )\n",
    "    audio_stream = BytesIO(response.content)\n",
    "    audio = AudioSegment.from_file(audio_stream, format=\"mp3\")\n",
    "    play_audio(audio)\n",
    "\n",
    "talker(\"Well hi there\")"
   ]
  },
  {
   "cell_type": "markdown",
   "id": "96f90e35-f71e-468e-afea-07b98f74dbcf",
   "metadata": {},
   "source": [
    "## PC Variation 3"
   ]
  },
  {
   "cell_type": "code",
   "execution_count": null,
   "id": "8597c7f8-7b50-44ad-9b31-db12375cd57b",
   "metadata": {},
   "outputs": [],
   "source": [
    "import os\n",
    "from pydub import AudioSegment\n",
    "from pydub.playback import play\n",
    "from io import BytesIO\n",
    "\n",
    "def talker(message):\n",
    "    # Set a custom directory for temporary files on Windows\n",
    "    custom_temp_dir = os.path.expanduser(\"~/Documents/temp_audio\")\n",
    "    os.environ['TEMP'] = custom_temp_dir  # You can also use 'TMP' if necessary\n",
    "    \n",
    "    # Create the folder if it doesn't exist\n",
    "    if not os.path.exists(custom_temp_dir):\n",
    "        os.makedirs(custom_temp_dir)\n",
    "    \n",
    "    response = openai.audio.speech.create(\n",
    "        model=\"tts-1\",\n",
    "        voice=\"onyx\",  # Also, try replacing onyx with alloy\n",
    "        input=message\n",
    "    )\n",
    "    \n",
    "    audio_stream = BytesIO(response.content)\n",
    "    audio = AudioSegment.from_file(audio_stream, format=\"mp3\")\n",
    "\n",
    "    play(audio)\n",
    "\n",
    "talker(\"Well hi there\")"
   ]
  },
  {
   "cell_type": "markdown",
   "id": "e821224c-b069-4f9b-9535-c15fdb0e411c",
   "metadata": {},
   "source": [
    "## PC Variation 4\n",
    "\n",
    "### Let's try a completely different sound library\n",
    "\n",
    "First run the next cell to install a new library, then try the cell below it."
   ]
  },
  {
   "cell_type": "code",
   "execution_count": null,
   "id": "69d3c0d9-afcc-49e3-b829-9c9869d8b472",
   "metadata": {},
   "outputs": [],
   "source": [
    "!pip install simpleaudio"
   ]
  },
  {
   "cell_type": "code",
   "execution_count": null,
   "id": "28f9cc99-36b7-4554-b3f4-f2012f614a13",
   "metadata": {},
   "outputs": [],
   "source": [
    "from pydub import AudioSegment\n",
    "from io import BytesIO\n",
    "import tempfile\n",
    "import os\n",
    "import simpleaudio as sa\n",
    "\n",
    "def talker(message):\n",
    "    response = openai.audio.speech.create(\n",
    "        model=\"tts-1\",\n",
    "        voice=\"onyx\",  # Also, try replacing onyx with alloy\n",
    "        input=message\n",
    "    )\n",
    "    \n",
    "    audio_stream = BytesIO(response.content)\n",
    "    audio = AudioSegment.from_file(audio_stream, format=\"mp3\")\n",
    "\n",
    "    # Create a temporary file in a folder where you have write permissions\n",
    "    with tempfile.NamedTemporaryFile(suffix=\".wav\", delete=False, dir=os.path.expanduser(\"~/Documents\")) as temp_audio_file:\n",
    "        temp_file_name = temp_audio_file.name\n",
    "        audio.export(temp_file_name, format=\"wav\")\n",
    "    \n",
    "    # Load and play audio using simpleaudio\n",
    "    wave_obj = sa.WaveObject.from_wave_file(temp_file_name)\n",
    "    play_obj = wave_obj.play()\n",
    "    play_obj.wait_done()  # Wait for playback to finish\n",
    "\n",
    "    # Clean up the temporary file afterward\n",
    "    os.remove(temp_file_name)\n",
    "    \n",
    "talker(\"Well hi there\")"
   ]
  },
  {
   "cell_type": "markdown",
   "id": "7986176b-cd04-495f-a47f-e057b0e462ed",
   "metadata": {},
   "source": [
    "## PC Users - if none of those 4 variations worked!\n",
    "\n",
    "Please get in touch with me. I'm sorry this is causing problems! We'll figure it out.\n",
    "\n",
    "Alternatively: playing audio from your PC isn't super-critical for this course, and you can feel free to focus on image generation and skip audio for now, or come back to it later."
   ]
  },
  {
   "cell_type": "markdown",
   "id": "1d48876d-c4fa-46a8-a04f-f9fadf61fb0d",
   "metadata": {},
   "source": [
    "# Our Agent Framework\n",
    "\n",
    "The term 'Agentic AI' and Agentization is an umbrella term that refers to a number of techniques, such as:\n",
    "\n",
    "1. Breaking a complex problem into smaller steps, with multiple LLMs carrying out specialized tasks\n",
    "2. The ability for LLMs to use Tools to give them additional capabilities\n",
    "3. The 'Agent Environment' which allows Agents to collaborate\n",
    "4. An LLM can act as the Planner, dividing bigger tasks into smaller ones for the specialists\n",
    "5. The concept of an Agent having autonomy / agency, beyond just responding to a prompt - such as Memory\n",
    "\n",
    "We're showing 1 and 2 here, and to a lesser extent 3 and 5. In week 8 we will do the lot!"
   ]
  },
  {
   "cell_type": "code",
   "execution_count": null,
   "id": "ba820c95-02f5-499e-8f3c-8727ee0a6c0c",
   "metadata": {},
   "outputs": [],
   "source": [
    "def chat(history):\n",
    "    messages = [{\"role\": \"system\", \"content\": system_message}] + history\n",
    "    response = openai.chat.completions.create(model=MODEL, messages=messages, tools=tools)\n",
    "    image = None\n",
    "    \n",
    "    if response.choices[0].finish_reason==\"tool_calls\":\n",
    "        message = response.choices[0].message\n",
    "        response, city = handle_tool_call(message)\n",
    "        messages.append(message)\n",
    "        messages.append(response)\n",
    "        image = artist(city)\n",
    "        response = openai.chat.completions.create(model=MODEL, messages=messages)\n",
    "        \n",
    "    reply = response.choices[0].message.content\n",
    "    history += [{\"role\":\"assistant\", \"content\":reply}]\n",
    "\n",
    "    # Comment out or delete the next line if you'd rather skip Audio for now..\n",
    "    talker(reply)\n",
    "    \n",
    "    return history, image"
   ]
  },
  {
   "cell_type": "code",
   "execution_count": null,
   "id": "f38d0d27-33bf-4992-a2e5-5dbed973cde7",
   "metadata": {},
   "outputs": [],
   "source": [
    "# More involved Gradio code as we're not using the preset Chat interface!\n",
    "# Passing in inbrowser=True in the last line will cause a Gradio window to pop up immediately.\n",
    "\n",
    "with gr.Blocks() as ui:\n",
    "    with gr.Row():\n",
    "        chatbot = gr.Chatbot(height=500, type=\"messages\")\n",
    "        image_output = gr.Image(height=500)\n",
    "    with gr.Row():\n",
    "        entry = gr.Textbox(label=\"Chat with our AI Assistant:\")\n",
    "    with gr.Row():\n",
    "        clear = gr.Button(\"Clear\")\n",
    "\n",
    "    def do_entry(message, history):\n",
    "        history += [{\"role\":\"user\", \"content\":message}]\n",
    "        return \"\", history\n",
    "\n",
    "    entry.submit(do_entry, inputs=[entry, chatbot], outputs=[entry, chatbot]).then(\n",
    "        chat, inputs=chatbot, outputs=[chatbot, image_output]\n",
    "    )\n",
    "    clear.click(lambda: None, inputs=None, outputs=chatbot, queue=False)\n",
    "\n",
    "ui.launch(inbrowser=True)"
   ]
  },
  {
   "cell_type": "markdown",
   "id": "226643d2-73e4-4252-935d-86b8019e278a",
   "metadata": {},
   "source": [
    "# Exercises and Business Applications\n",
    "\n",
    "Add in more tools - perhaps to simulate actually booking a flight. A student has done this and provided their example in the community contributions folder.\n",
    "\n",
    "Next: take this and apply it to your business. Make a multi-modal AI assistant with tools that could carry out an activity for your work. A customer support assistant? New employee onboarding assistant? So many possibilities! Also, see the week2 end of week Exercise in the separate Notebook."
   ]
  },
  {
   "cell_type": "markdown",
   "id": "7e795560-1867-42db-a256-a23b844e6fbe",
   "metadata": {},
   "source": [
    "<table style=\"margin: 0; text-align: left;\">\n",
    "    <tr>\n",
    "        <td style=\"width: 150px; height: 150px; vertical-align: middle;\">\n",
    "            <img src=\"../thankyou.jpg\" width=\"150\" height=\"150\" style=\"display: block;\" />\n",
    "        </td>\n",
    "        <td>\n",
    "            <h2 style=\"color:#090;\">I have a special request for you</h2>\n",
    "            <span style=\"color:#090;\">\n",
    "                My editor tells me that it makes a HUGE difference when students rate this course on Udemy - it's one of the main ways that Udemy decides whether to show it to others. If you're able to take a minute to rate this, I'd be so very grateful! And regardless - always please reach out to me at ed@edwarddonner.com if I can help at any point.\n",
    "            </span>\n",
    "        </td>\n",
    "    </tr>\n",
    "</table>"
   ]
  }
 ],
 "metadata": {
  "kernelspec": {
   "display_name": "Python 3 (ipykernel)",
   "language": "python",
   "name": "python3"
  },
  "language_info": {
   "codemirror_mode": {
    "name": "ipython",
    "version": 3
   },
   "file_extension": ".py",
   "mimetype": "text/x-python",
   "name": "python",
   "nbconvert_exporter": "python",
   "pygments_lexer": "ipython3",
   "version": "3.11.11"
  }
 },
 "nbformat": 4,
 "nbformat_minor": 5
}
